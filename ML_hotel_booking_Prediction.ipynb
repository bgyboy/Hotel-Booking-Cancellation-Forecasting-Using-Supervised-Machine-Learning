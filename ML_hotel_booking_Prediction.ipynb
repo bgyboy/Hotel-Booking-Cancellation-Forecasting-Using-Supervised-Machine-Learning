{
 "cells": [
  {
   "cell_type": "code",
   "execution_count": 32,
   "id": "49a9835c",
   "metadata": {},
   "outputs": [],
   "source": [
    "import pandas as pd #for tasks related to data : import, export, manipulation\n",
    "import numpy as np #for numerical tasks\n",
    "\n",
    "import matplotlib.pyplot as plt #for data visualization\n",
    "import seaborn as sns #multidimensional plot"
   ]
  },
  {
   "cell_type": "code",
   "execution_count": 33,
   "id": "595e5b25",
   "metadata": {},
   "outputs": [
    {
     "data": {
      "text/html": [
       "<div>\n",
       "<style scoped>\n",
       "    .dataframe tbody tr th:only-of-type {\n",
       "        vertical-align: middle;\n",
       "    }\n",
       "\n",
       "    .dataframe tbody tr th {\n",
       "        vertical-align: top;\n",
       "    }\n",
       "\n",
       "    .dataframe thead th {\n",
       "        text-align: right;\n",
       "    }\n",
       "</style>\n",
       "<table border=\"1\" class=\"dataframe\">\n",
       "  <thead>\n",
       "    <tr style=\"text-align: right;\">\n",
       "      <th></th>\n",
       "      <th>hotel</th>\n",
       "      <th>is_canceled</th>\n",
       "      <th>lead_time</th>\n",
       "      <th>arrival_date_year</th>\n",
       "      <th>arrival_date_month</th>\n",
       "      <th>arrival_date_week_number</th>\n",
       "      <th>arrival_date_day_of_month</th>\n",
       "      <th>stays_in_weekend_nights</th>\n",
       "      <th>stays_in_week_nights</th>\n",
       "      <th>adults</th>\n",
       "      <th>...</th>\n",
       "      <th>deposit_type</th>\n",
       "      <th>agent</th>\n",
       "      <th>company</th>\n",
       "      <th>days_in_waiting_list</th>\n",
       "      <th>customer_type</th>\n",
       "      <th>adr</th>\n",
       "      <th>required_car_parking_spaces</th>\n",
       "      <th>total_of_special_requests</th>\n",
       "      <th>reservation_status</th>\n",
       "      <th>reservation_status_date</th>\n",
       "    </tr>\n",
       "  </thead>\n",
       "  <tbody>\n",
       "    <tr>\n",
       "      <th>119385</th>\n",
       "      <td>City Hotel</td>\n",
       "      <td>0</td>\n",
       "      <td>23</td>\n",
       "      <td>2017</td>\n",
       "      <td>August</td>\n",
       "      <td>35</td>\n",
       "      <td>30</td>\n",
       "      <td>2</td>\n",
       "      <td>5</td>\n",
       "      <td>2</td>\n",
       "      <td>...</td>\n",
       "      <td>No Deposit</td>\n",
       "      <td>394.0</td>\n",
       "      <td>NaN</td>\n",
       "      <td>0</td>\n",
       "      <td>Transient</td>\n",
       "      <td>96.14</td>\n",
       "      <td>0</td>\n",
       "      <td>0</td>\n",
       "      <td>Check-Out</td>\n",
       "      <td>9/6/2017</td>\n",
       "    </tr>\n",
       "    <tr>\n",
       "      <th>119386</th>\n",
       "      <td>City Hotel</td>\n",
       "      <td>0</td>\n",
       "      <td>102</td>\n",
       "      <td>2017</td>\n",
       "      <td>August</td>\n",
       "      <td>35</td>\n",
       "      <td>31</td>\n",
       "      <td>2</td>\n",
       "      <td>5</td>\n",
       "      <td>3</td>\n",
       "      <td>...</td>\n",
       "      <td>No Deposit</td>\n",
       "      <td>9.0</td>\n",
       "      <td>NaN</td>\n",
       "      <td>0</td>\n",
       "      <td>Transient</td>\n",
       "      <td>225.43</td>\n",
       "      <td>0</td>\n",
       "      <td>2</td>\n",
       "      <td>Check-Out</td>\n",
       "      <td>9/7/2017</td>\n",
       "    </tr>\n",
       "    <tr>\n",
       "      <th>119387</th>\n",
       "      <td>City Hotel</td>\n",
       "      <td>0</td>\n",
       "      <td>34</td>\n",
       "      <td>2017</td>\n",
       "      <td>August</td>\n",
       "      <td>35</td>\n",
       "      <td>31</td>\n",
       "      <td>2</td>\n",
       "      <td>5</td>\n",
       "      <td>2</td>\n",
       "      <td>...</td>\n",
       "      <td>No Deposit</td>\n",
       "      <td>9.0</td>\n",
       "      <td>NaN</td>\n",
       "      <td>0</td>\n",
       "      <td>Transient</td>\n",
       "      <td>157.71</td>\n",
       "      <td>0</td>\n",
       "      <td>4</td>\n",
       "      <td>Check-Out</td>\n",
       "      <td>9/7/2017</td>\n",
       "    </tr>\n",
       "    <tr>\n",
       "      <th>119388</th>\n",
       "      <td>City Hotel</td>\n",
       "      <td>0</td>\n",
       "      <td>109</td>\n",
       "      <td>2017</td>\n",
       "      <td>August</td>\n",
       "      <td>35</td>\n",
       "      <td>31</td>\n",
       "      <td>2</td>\n",
       "      <td>5</td>\n",
       "      <td>2</td>\n",
       "      <td>...</td>\n",
       "      <td>No Deposit</td>\n",
       "      <td>89.0</td>\n",
       "      <td>NaN</td>\n",
       "      <td>0</td>\n",
       "      <td>Transient</td>\n",
       "      <td>104.40</td>\n",
       "      <td>0</td>\n",
       "      <td>0</td>\n",
       "      <td>Check-Out</td>\n",
       "      <td>9/7/2017</td>\n",
       "    </tr>\n",
       "    <tr>\n",
       "      <th>119389</th>\n",
       "      <td>City Hotel</td>\n",
       "      <td>0</td>\n",
       "      <td>205</td>\n",
       "      <td>2017</td>\n",
       "      <td>August</td>\n",
       "      <td>35</td>\n",
       "      <td>29</td>\n",
       "      <td>2</td>\n",
       "      <td>7</td>\n",
       "      <td>2</td>\n",
       "      <td>...</td>\n",
       "      <td>No Deposit</td>\n",
       "      <td>9.0</td>\n",
       "      <td>NaN</td>\n",
       "      <td>0</td>\n",
       "      <td>Transient</td>\n",
       "      <td>151.20</td>\n",
       "      <td>0</td>\n",
       "      <td>2</td>\n",
       "      <td>Check-Out</td>\n",
       "      <td>9/7/2017</td>\n",
       "    </tr>\n",
       "  </tbody>\n",
       "</table>\n",
       "<p>5 rows × 32 columns</p>\n",
       "</div>"
      ],
      "text/plain": [
       "             hotel  is_canceled  lead_time  arrival_date_year  \\\n",
       "119385  City Hotel            0         23               2017   \n",
       "119386  City Hotel            0        102               2017   \n",
       "119387  City Hotel            0         34               2017   \n",
       "119388  City Hotel            0        109               2017   \n",
       "119389  City Hotel            0        205               2017   \n",
       "\n",
       "       arrival_date_month  arrival_date_week_number  \\\n",
       "119385             August                        35   \n",
       "119386             August                        35   \n",
       "119387             August                        35   \n",
       "119388             August                        35   \n",
       "119389             August                        35   \n",
       "\n",
       "        arrival_date_day_of_month  stays_in_weekend_nights  \\\n",
       "119385                         30                        2   \n",
       "119386                         31                        2   \n",
       "119387                         31                        2   \n",
       "119388                         31                        2   \n",
       "119389                         29                        2   \n",
       "\n",
       "        stays_in_week_nights  adults  ...  deposit_type  agent company  \\\n",
       "119385                     5       2  ...    No Deposit  394.0     NaN   \n",
       "119386                     5       3  ...    No Deposit    9.0     NaN   \n",
       "119387                     5       2  ...    No Deposit    9.0     NaN   \n",
       "119388                     5       2  ...    No Deposit   89.0     NaN   \n",
       "119389                     7       2  ...    No Deposit    9.0     NaN   \n",
       "\n",
       "       days_in_waiting_list customer_type     adr  \\\n",
       "119385                    0     Transient   96.14   \n",
       "119386                    0     Transient  225.43   \n",
       "119387                    0     Transient  157.71   \n",
       "119388                    0     Transient  104.40   \n",
       "119389                    0     Transient  151.20   \n",
       "\n",
       "        required_car_parking_spaces  total_of_special_requests  \\\n",
       "119385                            0                          0   \n",
       "119386                            0                          2   \n",
       "119387                            0                          4   \n",
       "119388                            0                          0   \n",
       "119389                            0                          2   \n",
       "\n",
       "        reservation_status reservation_status_date  \n",
       "119385           Check-Out                9/6/2017  \n",
       "119386           Check-Out                9/7/2017  \n",
       "119387           Check-Out                9/7/2017  \n",
       "119388           Check-Out                9/7/2017  \n",
       "119389           Check-Out                9/7/2017  \n",
       "\n",
       "[5 rows x 32 columns]"
      ]
     },
     "execution_count": 33,
     "metadata": {},
     "output_type": "execute_result"
    }
   ],
   "source": [
    "df = pd.read_csv(\"Data/hotel_bookings.csv\") #import the data in the project\n",
    "df.tail()"
   ]
  },
  {
   "cell_type": "markdown",
   "id": "b15eb579",
   "metadata": {},
   "source": [
    "# cleaning the data"
   ]
  },
  {
   "cell_type": "code",
   "execution_count": 34,
   "id": "703846b6",
   "metadata": {},
   "outputs": [
    {
     "data": {
      "text/plain": [
       "(119390, 32)"
      ]
     },
     "execution_count": 34,
     "metadata": {},
     "output_type": "execute_result"
    }
   ],
   "source": [
    "df.shape"
   ]
  },
  {
   "cell_type": "code",
   "execution_count": 35,
   "id": "da9b5326",
   "metadata": {},
   "outputs": [
    {
     "data": {
      "text/plain": [
       "hotel                                  0\n",
       "is_canceled                            0\n",
       "lead_time                              0\n",
       "arrival_date_year                      0\n",
       "arrival_date_month                     0\n",
       "arrival_date_week_number               0\n",
       "arrival_date_day_of_month              0\n",
       "stays_in_weekend_nights                0\n",
       "stays_in_week_nights                   0\n",
       "adults                                 0\n",
       "children                               4\n",
       "babies                                 0\n",
       "meal                                   0\n",
       "country                              488\n",
       "market_segment                         0\n",
       "distribution_channel                   0\n",
       "is_repeated_guest                      0\n",
       "previous_cancellations                 0\n",
       "previous_bookings_not_canceled         0\n",
       "reserved_room_type                     0\n",
       "assigned_room_type                     0\n",
       "booking_changes                        0\n",
       "deposit_type                           0\n",
       "agent                              16340\n",
       "company                           112593\n",
       "days_in_waiting_list                   0\n",
       "customer_type                          0\n",
       "adr                                    0\n",
       "required_car_parking_spaces            0\n",
       "total_of_special_requests              0\n",
       "reservation_status                     0\n",
       "reservation_status_date                0\n",
       "dtype: int64"
      ]
     },
     "execution_count": 35,
     "metadata": {},
     "output_type": "execute_result"
    }
   ],
   "source": [
    "df.isna().sum()"
   ]
  },
  {
   "cell_type": "code",
   "execution_count": 36,
   "id": "3202bb68",
   "metadata": {},
   "outputs": [],
   "source": [
    "#not available data\n",
    "def data_clean(df):\n",
    "    df.fillna(0,inplace = True) #zero imputation\n",
    "    print(df.isnull().sum())\n",
    "    "
   ]
  },
  {
   "cell_type": "code",
   "execution_count": 37,
   "id": "fca52821",
   "metadata": {},
   "outputs": [
    {
     "name": "stdout",
     "output_type": "stream",
     "text": [
      "hotel                             0\n",
      "is_canceled                       0\n",
      "lead_time                         0\n",
      "arrival_date_year                 0\n",
      "arrival_date_month                0\n",
      "arrival_date_week_number          0\n",
      "arrival_date_day_of_month         0\n",
      "stays_in_weekend_nights           0\n",
      "stays_in_week_nights              0\n",
      "adults                            0\n",
      "children                          0\n",
      "babies                            0\n",
      "meal                              0\n",
      "country                           0\n",
      "market_segment                    0\n",
      "distribution_channel              0\n",
      "is_repeated_guest                 0\n",
      "previous_cancellations            0\n",
      "previous_bookings_not_canceled    0\n",
      "reserved_room_type                0\n",
      "assigned_room_type                0\n",
      "booking_changes                   0\n",
      "deposit_type                      0\n",
      "agent                             0\n",
      "company                           0\n",
      "days_in_waiting_list              0\n",
      "customer_type                     0\n",
      "adr                               0\n",
      "required_car_parking_spaces       0\n",
      "total_of_special_requests         0\n",
      "reservation_status                0\n",
      "reservation_status_date           0\n",
      "dtype: int64\n"
     ]
    }
   ],
   "source": [
    "data_clean(df)"
   ]
  },
  {
   "cell_type": "code",
   "execution_count": 38,
   "id": "2c451494",
   "metadata": {},
   "outputs": [
    {
     "name": "stdout",
     "output_type": "stream",
     "text": [
      "children has unique values as [ 0.  1.  2. 10.  3.]\n",
      "adults has unique values as [ 2  1  3  4 40 26 50 27 55  0 20  6  5 10]\n",
      "babies has unique values as [ 0  1  2 10  9]\n"
     ]
    }
   ],
   "source": [
    "list_cols = [\"children\", \"adults\", \"babies\"]\n",
    "\n",
    "for i in list_cols:\n",
    "    print(f\"{i} has unique values as {df[i].unique()}\")"
   ]
  },
  {
   "cell_type": "code",
   "execution_count": 39,
   "id": "226ca22b",
   "metadata": {},
   "outputs": [],
   "source": [
    "#clean the data \n",
    "\n",
    "filtered_data = (df['children'] == 0) & (df['adults'] == 0) & (df['babies'] == 0) #noone came  dirty data\n",
    "\n",
    "final_data = df[~filtered_data] #filter it out\n",
    "\n",
    "\n"
   ]
  },
  {
   "cell_type": "code",
   "execution_count": 40,
   "id": "90047621",
   "metadata": {},
   "outputs": [
    {
     "data": {
      "text/plain": [
       "(119210, 32)"
      ]
     },
     "execution_count": 40,
     "metadata": {},
     "output_type": "execute_result"
    }
   ],
   "source": [
    "final_data.shape"
   ]
  },
  {
   "cell_type": "markdown",
   "id": "94fb17f6",
   "metadata": {},
   "source": [
    "# Where do the guest come from? (Spatial Analysis)"
   ]
  },
  {
   "cell_type": "code",
   "execution_count": 41,
   "id": "2b040792",
   "metadata": {
    "scrolled": true
   },
   "outputs": [
    {
     "name": "stdout",
     "output_type": "stream",
     "text": [
      "    Country  No.of guests\n",
      "0       PRT         20977\n",
      "1       GBR          9668\n",
      "2       FRA          8468\n",
      "3       ESP          6383\n",
      "4       DEU          6067\n",
      "..      ...           ...\n",
      "161     BHR             1\n",
      "162     DJI             1\n",
      "163     MLI             1\n",
      "164     NPL             1\n",
      "165     FRO             1\n",
      "\n",
      "[166 rows x 2 columns]\n"
     ]
    }
   ],
   "source": [
    "country_wise_data =  final_data[final_data['is_canceled'] == 0]['country'].value_counts().reset_index()\n",
    "\n",
    "\n",
    "country_wise_data.columns = [\"Country\", \"No.of guests\"]\n",
    "print(country_wise_data)\n"
   ]
  },
  {
   "cell_type": "code",
   "execution_count": 42,
   "id": "8629dfe7",
   "metadata": {},
   "outputs": [],
   "source": [
    "#import plotly.express as px"
   ]
  },
  {
   "cell_type": "code",
   "execution_count": 43,
   "id": "81ea6377",
   "metadata": {},
   "outputs": [
    {
     "ename": "IndentationError",
     "evalue": "unexpected indent (3499384187.py, line 5)",
     "output_type": "error",
     "traceback": [
      "\u001b[1;36m  Cell \u001b[1;32mIn[43], line 5\u001b[1;36m\u001b[0m\n\u001b[1;33m    )\u001b[0m\n\u001b[1;37m    ^\u001b[0m\n\u001b[1;31mIndentationError\u001b[0m\u001b[1;31m:\u001b[0m unexpected indent\n"
     ]
    }
   ],
   "source": [
    "#map_guests = px.choropleth(country_wise_data, locations = country_wise_data['Country'],\n",
    "         #                  color = country_wise_data[\"No.of guests\"],\n",
    "          #                 hover_name = country_wise_data['Country'],\n",
    "           #                title = \"Home country of guests\"\n",
    "                         # )\n",
    "\n",
    "#map_guests.show()"
   ]
  },
  {
   "cell_type": "markdown",
   "id": "3d2b0f66",
   "metadata": {},
   "source": [
    "# How much do guests pay for a room per night?"
   ]
  },
  {
   "cell_type": "code",
   "execution_count": 44,
   "id": "89871b28",
   "metadata": {
    "scrolled": true
   },
   "outputs": [
    {
     "data": {
      "text/plain": [
       "array(['Resort Hotel', 'City Hotel'], dtype=object)"
      ]
     },
     "execution_count": 44,
     "metadata": {},
     "output_type": "execute_result"
    }
   ],
   "source": [
    "final_data[\"hotel\"].unique()"
   ]
  },
  {
   "cell_type": "code",
   "execution_count": null,
   "id": "cf79af63",
   "metadata": {
    "scrolled": true
   },
   "outputs": [],
   "source": [
    "final_data"
   ]
  },
  {
   "cell_type": "code",
   "execution_count": 45,
   "id": "17efe5b0",
   "metadata": {},
   "outputs": [],
   "source": [
    "data = final_data[final_data[\"is_canceled\"] == 0]"
   ]
  },
  {
   "cell_type": "code",
   "execution_count": 46,
   "id": "d991f872",
   "metadata": {
    "scrolled": true
   },
   "outputs": [
    {
     "data": {
      "image/png": "[encoded data removed]",
      "text/plain": [
       "<Figure size 1200x800 with 1 Axes>"
      ]
     },
     "metadata": {},
     "output_type": "display_data"
    }
   ],
   "source": [
    "#boxplot\n",
    "plt.figure(figsize = (12,8)) #default\n",
    "\n",
    "sns.boxplot(x = \"reserved_room_type\",\n",
    "           y = \"adr\", \n",
    "           hue = \"hotel\", data = data)\n",
    "\n",
    "plt.title(\"Price of room types per night per person\", fontsize = 16)\n",
    "plt.xlabel(\"Room type\")\n",
    "plt.ylabel(\"Price [EUR]\")\n",
    "plt.legend(loc = \"upper right\")\n",
    "plt.ylim(0,600)\n",
    "#plt.savefig('boxcurve.png', dpi=300)\n",
    "plt.show()\n",
    "\n",
    "\n"
   ]
  },
  {
   "cell_type": "markdown",
   "id": "e513d22d",
   "metadata": {},
   "source": [
    "# How does the price per night (adr) vary over the year?"
   ]
  },
  {
   "cell_type": "code",
   "execution_count": 47,
   "id": "8b4f62be",
   "metadata": {},
   "outputs": [
    {
     "data": {
      "text/plain": [
       "array(['Resort Hotel', 'City Hotel'], dtype=object)"
      ]
     },
     "execution_count": 47,
     "metadata": {},
     "output_type": "execute_result"
    }
   ],
   "source": [
    "final_data[\"hotel\"].unique()"
   ]
  },
  {
   "cell_type": "code",
   "execution_count": 48,
   "id": "ac9f17c0",
   "metadata": {},
   "outputs": [],
   "source": [
    "data_resort = final_data[(final_data[\"hotel\"] == \"Resort Hotel\") & (final_data[\"is_canceled\"] == 0)]\n",
    "\n",
    "\n",
    "data_city = final_data[(final_data[\"hotel\"] == \"City Hotel\") & (final_data[\"is_canceled\"] == 0)]"
   ]
  },
  {
   "cell_type": "code",
   "execution_count": 49,
   "id": "9d48c73d",
   "metadata": {},
   "outputs": [],
   "source": [
    "#resort hotel: variable: data_resort\n",
    "\n",
    "#adr attribute : \n",
    "\n",
    "#how many people came to resort hotel per month\n",
    "resort_hotel = data_resort.groupby(['arrival_date_month'])['adr'].mean().reset_index()\n"
   ]
  },
  {
   "cell_type": "code",
   "execution_count": 50,
   "id": "690533a4",
   "metadata": {},
   "outputs": [],
   "source": [
    "#how many people came to city hotel per month\n",
    "city_hotel = data_city.groupby(['arrival_date_month'])['adr'].mean().reset_index()\n"
   ]
  },
  {
   "cell_type": "code",
   "execution_count": 51,
   "id": "2f3cd13f",
   "metadata": {},
   "outputs": [],
   "source": [
    "final = resort_hotel.merge(city_hotel, on = \"arrival_date_month\")\n",
    "\n",
    "final.columns = [\"month\", \"price_for_resort_hotel\", \"price_for_city_hotel\"]"
   ]
  },
  {
   "cell_type": "code",
   "execution_count": 52,
   "id": "8a9d0dd0",
   "metadata": {
    "scrolled": true
   },
   "outputs": [
    {
     "name": "stdout",
     "output_type": "stream",
     "text": [
      "        month  price_for_resort_hotel  price_for_city_hotel\n",
      "0       April               75.867816            111.962267\n",
      "1      August              181.205892            118.674598\n",
      "2    December               68.410104             88.401855\n",
      "3    February               54.147478             86.520062\n",
      "4     January               48.761125             82.330983\n",
      "5        July              150.122528            115.818019\n",
      "6        June              107.974850            117.874360\n",
      "7       March               57.056838             90.658533\n",
      "8         May               76.657558            120.669827\n",
      "9    November               48.706289             86.946592\n",
      "10    October               61.775449            102.004672\n",
      "11  September               96.416860            112.776582\n"
     ]
    }
   ],
   "source": [
    "print(final)"
   ]
  },
  {
   "cell_type": "markdown",
   "id": "c37b4e8e",
   "metadata": {},
   "source": [
    "# sort the month "
   ]
  },
  {
   "cell_type": "code",
   "execution_count": 53,
   "id": "d0749c98",
   "metadata": {},
   "outputs": [],
   "source": [
    "from calendar import month_name\n",
    "\n",
    "def sort_month(df, colname):\n",
    "    month_dict = { j:i for i, j in enumerate(month_name) } #dictionary comprehension\n",
    "    df[\"month_num\"] = df[colname].apply(lambda x: month_dict[x])\n",
    "    return df.sort_values(by = \"month_num\").reset_index().drop(['index', 'month_num'], axis = 1)"
   ]
  },
  {
   "cell_type": "code",
   "execution_count": 54,
   "id": "dd673377",
   "metadata": {
    "scrolled": true
   },
   "outputs": [
    {
     "data": {
      "text/html": [
       "<div>\n",
       "<style scoped>\n",
       "    .dataframe tbody tr th:only-of-type {\n",
       "        vertical-align: middle;\n",
       "    }\n",
       "\n",
       "    .dataframe tbody tr th {\n",
       "        vertical-align: top;\n",
       "    }\n",
       "\n",
       "    .dataframe thead th {\n",
       "        text-align: right;\n",
       "    }\n",
       "</style>\n",
       "<table border=\"1\" class=\"dataframe\">\n",
       "  <thead>\n",
       "    <tr style=\"text-align: right;\">\n",
       "      <th></th>\n",
       "      <th>month</th>\n",
       "      <th>price_for_resort_hotel</th>\n",
       "      <th>price_for_city_hotel</th>\n",
       "    </tr>\n",
       "  </thead>\n",
       "  <tbody>\n",
       "    <tr>\n",
       "      <th>0</th>\n",
       "      <td>January</td>\n",
       "      <td>48.761125</td>\n",
       "      <td>82.330983</td>\n",
       "    </tr>\n",
       "    <tr>\n",
       "      <th>1</th>\n",
       "      <td>February</td>\n",
       "      <td>54.147478</td>\n",
       "      <td>86.520062</td>\n",
       "    </tr>\n",
       "    <tr>\n",
       "      <th>2</th>\n",
       "      <td>March</td>\n",
       "      <td>57.056838</td>\n",
       "      <td>90.658533</td>\n",
       "    </tr>\n",
       "    <tr>\n",
       "      <th>3</th>\n",
       "      <td>April</td>\n",
       "      <td>75.867816</td>\n",
       "      <td>111.962267</td>\n",
       "    </tr>\n",
       "    <tr>\n",
       "      <th>4</th>\n",
       "      <td>May</td>\n",
       "      <td>76.657558</td>\n",
       "      <td>120.669827</td>\n",
       "    </tr>\n",
       "    <tr>\n",
       "      <th>5</th>\n",
       "      <td>June</td>\n",
       "      <td>107.974850</td>\n",
       "      <td>117.874360</td>\n",
       "    </tr>\n",
       "    <tr>\n",
       "      <th>6</th>\n",
       "      <td>July</td>\n",
       "      <td>150.122528</td>\n",
       "      <td>115.818019</td>\n",
       "    </tr>\n",
       "    <tr>\n",
       "      <th>7</th>\n",
       "      <td>August</td>\n",
       "      <td>181.205892</td>\n",
       "      <td>118.674598</td>\n",
       "    </tr>\n",
       "    <tr>\n",
       "      <th>8</th>\n",
       "      <td>September</td>\n",
       "      <td>96.416860</td>\n",
       "      <td>112.776582</td>\n",
       "    </tr>\n",
       "    <tr>\n",
       "      <th>9</th>\n",
       "      <td>October</td>\n",
       "      <td>61.775449</td>\n",
       "      <td>102.004672</td>\n",
       "    </tr>\n",
       "    <tr>\n",
       "      <th>10</th>\n",
       "      <td>November</td>\n",
       "      <td>48.706289</td>\n",
       "      <td>86.946592</td>\n",
       "    </tr>\n",
       "    <tr>\n",
       "      <th>11</th>\n",
       "      <td>December</td>\n",
       "      <td>68.410104</td>\n",
       "      <td>88.401855</td>\n",
       "    </tr>\n",
       "  </tbody>\n",
       "</table>\n",
       "</div>"
      ],
      "text/plain": [
       "        month  price_for_resort_hotel  price_for_city_hotel\n",
       "0     January               48.761125             82.330983\n",
       "1    February               54.147478             86.520062\n",
       "2       March               57.056838             90.658533\n",
       "3       April               75.867816            111.962267\n",
       "4         May               76.657558            120.669827\n",
       "5        June              107.974850            117.874360\n",
       "6        July              150.122528            115.818019\n",
       "7      August              181.205892            118.674598\n",
       "8   September               96.416860            112.776582\n",
       "9     October               61.775449            102.004672\n",
       "10   November               48.706289             86.946592\n",
       "11   December               68.410104             88.401855"
      ]
     },
     "execution_count": 54,
     "metadata": {},
     "output_type": "execute_result"
    }
   ],
   "source": [
    "sort_month(final, \"month\")"
   ]
  },
  {
   "cell_type": "code",
   "execution_count": 55,
   "id": "bc75ba2d",
   "metadata": {
    "scrolled": true
   },
   "outputs": [
    {
     "data": {
      "image/png": "[encoded data removed]",
      "text/plain": [
       "<Figure size 640x480 with 1 Axes>"
      ]
     },
     "metadata": {},
     "output_type": "display_data"
    }
   ],
   "source": [
    "ax = final.plot(kind=\"line\", \n",
    "                x=\"month\", \n",
    "                y=[\"price_for_resort_hotel\", \"price_for_city_hotel\"])\n",
    "\n",
    "# Save the figure\n",
    "#ax.figure.savefig(\"lineplot.png\", dpi=300)\n",
    "\n",
    "# Show the plot\n",
    "plt.show()\n"
   ]
  },
  {
   "cell_type": "markdown",
   "id": "fe68dd2f",
   "metadata": {},
   "source": [
    "# Which are the most busy month or in which months Guests are high?"
   ]
  },
  {
   "cell_type": "code",
   "execution_count": 56,
   "id": "05370e9f",
   "metadata": {},
   "outputs": [
    {
     "data": {
      "text/html": [
       "<div>\n",
       "<style scoped>\n",
       "    .dataframe tbody tr th:only-of-type {\n",
       "        vertical-align: middle;\n",
       "    }\n",
       "\n",
       "    .dataframe tbody tr th {\n",
       "        vertical-align: top;\n",
       "    }\n",
       "\n",
       "    .dataframe thead th {\n",
       "        text-align: right;\n",
       "    }\n",
       "</style>\n",
       "<table border=\"1\" class=\"dataframe\">\n",
       "  <thead>\n",
       "    <tr style=\"text-align: right;\">\n",
       "      <th></th>\n",
       "      <th>hotel</th>\n",
       "      <th>is_canceled</th>\n",
       "      <th>lead_time</th>\n",
       "      <th>arrival_date_year</th>\n",
       "      <th>arrival_date_month</th>\n",
       "      <th>arrival_date_week_number</th>\n",
       "      <th>arrival_date_day_of_month</th>\n",
       "      <th>stays_in_weekend_nights</th>\n",
       "      <th>stays_in_week_nights</th>\n",
       "      <th>adults</th>\n",
       "      <th>...</th>\n",
       "      <th>deposit_type</th>\n",
       "      <th>agent</th>\n",
       "      <th>company</th>\n",
       "      <th>days_in_waiting_list</th>\n",
       "      <th>customer_type</th>\n",
       "      <th>adr</th>\n",
       "      <th>required_car_parking_spaces</th>\n",
       "      <th>total_of_special_requests</th>\n",
       "      <th>reservation_status</th>\n",
       "      <th>reservation_status_date</th>\n",
       "    </tr>\n",
       "  </thead>\n",
       "  <tbody>\n",
       "    <tr>\n",
       "      <th>0</th>\n",
       "      <td>Resort Hotel</td>\n",
       "      <td>0</td>\n",
       "      <td>342</td>\n",
       "      <td>2015</td>\n",
       "      <td>July</td>\n",
       "      <td>27</td>\n",
       "      <td>1</td>\n",
       "      <td>0</td>\n",
       "      <td>0</td>\n",
       "      <td>2</td>\n",
       "      <td>...</td>\n",
       "      <td>No Deposit</td>\n",
       "      <td>0.0</td>\n",
       "      <td>0.0</td>\n",
       "      <td>0</td>\n",
       "      <td>Transient</td>\n",
       "      <td>0.0</td>\n",
       "      <td>0</td>\n",
       "      <td>0</td>\n",
       "      <td>Check-Out</td>\n",
       "      <td>7/1/2015</td>\n",
       "    </tr>\n",
       "    <tr>\n",
       "      <th>1</th>\n",
       "      <td>Resort Hotel</td>\n",
       "      <td>0</td>\n",
       "      <td>737</td>\n",
       "      <td>2015</td>\n",
       "      <td>July</td>\n",
       "      <td>27</td>\n",
       "      <td>1</td>\n",
       "      <td>0</td>\n",
       "      <td>0</td>\n",
       "      <td>2</td>\n",
       "      <td>...</td>\n",
       "      <td>No Deposit</td>\n",
       "      <td>0.0</td>\n",
       "      <td>0.0</td>\n",
       "      <td>0</td>\n",
       "      <td>Transient</td>\n",
       "      <td>0.0</td>\n",
       "      <td>0</td>\n",
       "      <td>0</td>\n",
       "      <td>Check-Out</td>\n",
       "      <td>7/1/2015</td>\n",
       "    </tr>\n",
       "    <tr>\n",
       "      <th>2</th>\n",
       "      <td>Resort Hotel</td>\n",
       "      <td>0</td>\n",
       "      <td>7</td>\n",
       "      <td>2015</td>\n",
       "      <td>July</td>\n",
       "      <td>27</td>\n",
       "      <td>1</td>\n",
       "      <td>0</td>\n",
       "      <td>1</td>\n",
       "      <td>1</td>\n",
       "      <td>...</td>\n",
       "      <td>No Deposit</td>\n",
       "      <td>0.0</td>\n",
       "      <td>0.0</td>\n",
       "      <td>0</td>\n",
       "      <td>Transient</td>\n",
       "      <td>75.0</td>\n",
       "      <td>0</td>\n",
       "      <td>0</td>\n",
       "      <td>Check-Out</td>\n",
       "      <td>7/2/2015</td>\n",
       "    </tr>\n",
       "    <tr>\n",
       "      <th>3</th>\n",
       "      <td>Resort Hotel</td>\n",
       "      <td>0</td>\n",
       "      <td>13</td>\n",
       "      <td>2015</td>\n",
       "      <td>July</td>\n",
       "      <td>27</td>\n",
       "      <td>1</td>\n",
       "      <td>0</td>\n",
       "      <td>1</td>\n",
       "      <td>1</td>\n",
       "      <td>...</td>\n",
       "      <td>No Deposit</td>\n",
       "      <td>304.0</td>\n",
       "      <td>0.0</td>\n",
       "      <td>0</td>\n",
       "      <td>Transient</td>\n",
       "      <td>75.0</td>\n",
       "      <td>0</td>\n",
       "      <td>0</td>\n",
       "      <td>Check-Out</td>\n",
       "      <td>7/2/2015</td>\n",
       "    </tr>\n",
       "    <tr>\n",
       "      <th>4</th>\n",
       "      <td>Resort Hotel</td>\n",
       "      <td>0</td>\n",
       "      <td>14</td>\n",
       "      <td>2015</td>\n",
       "      <td>July</td>\n",
       "      <td>27</td>\n",
       "      <td>1</td>\n",
       "      <td>0</td>\n",
       "      <td>2</td>\n",
       "      <td>2</td>\n",
       "      <td>...</td>\n",
       "      <td>No Deposit</td>\n",
       "      <td>240.0</td>\n",
       "      <td>0.0</td>\n",
       "      <td>0</td>\n",
       "      <td>Transient</td>\n",
       "      <td>98.0</td>\n",
       "      <td>0</td>\n",
       "      <td>1</td>\n",
       "      <td>Check-Out</td>\n",
       "      <td>7/3/2015</td>\n",
       "    </tr>\n",
       "  </tbody>\n",
       "</table>\n",
       "<p>5 rows × 32 columns</p>\n",
       "</div>"
      ],
      "text/plain": [
       "          hotel  is_canceled  lead_time  arrival_date_year arrival_date_month  \\\n",
       "0  Resort Hotel            0        342               2015               July   \n",
       "1  Resort Hotel            0        737               2015               July   \n",
       "2  Resort Hotel            0          7               2015               July   \n",
       "3  Resort Hotel            0         13               2015               July   \n",
       "4  Resort Hotel            0         14               2015               July   \n",
       "\n",
       "   arrival_date_week_number  arrival_date_day_of_month  \\\n",
       "0                        27                          1   \n",
       "1                        27                          1   \n",
       "2                        27                          1   \n",
       "3                        27                          1   \n",
       "4                        27                          1   \n",
       "\n",
       "   stays_in_weekend_nights  stays_in_week_nights  adults  ...  deposit_type  \\\n",
       "0                        0                     0       2  ...    No Deposit   \n",
       "1                        0                     0       2  ...    No Deposit   \n",
       "2                        0                     1       1  ...    No Deposit   \n",
       "3                        0                     1       1  ...    No Deposit   \n",
       "4                        0                     2       2  ...    No Deposit   \n",
       "\n",
       "   agent company days_in_waiting_list customer_type   adr  \\\n",
       "0    0.0     0.0                    0     Transient   0.0   \n",
       "1    0.0     0.0                    0     Transient   0.0   \n",
       "2    0.0     0.0                    0     Transient  75.0   \n",
       "3  304.0     0.0                    0     Transient  75.0   \n",
       "4  240.0     0.0                    0     Transient  98.0   \n",
       "\n",
       "   required_car_parking_spaces  total_of_special_requests  reservation_status  \\\n",
       "0                            0                          0           Check-Out   \n",
       "1                            0                          0           Check-Out   \n",
       "2                            0                          0           Check-Out   \n",
       "3                            0                          0           Check-Out   \n",
       "4                            0                          1           Check-Out   \n",
       "\n",
       "  reservation_status_date  \n",
       "0                7/1/2015  \n",
       "1                7/1/2015  \n",
       "2                7/2/2015  \n",
       "3                7/2/2015  \n",
       "4                7/3/2015  \n",
       "\n",
       "[5 rows x 32 columns]"
      ]
     },
     "execution_count": 56,
     "metadata": {},
     "output_type": "execute_result"
    }
   ],
   "source": [
    "data_resort.head()"
   ]
  },
  {
   "cell_type": "code",
   "execution_count": 57,
   "id": "a05313df",
   "metadata": {
    "scrolled": true
   },
   "outputs": [
    {
     "name": "stdout",
     "output_type": "stream",
     "text": [
      "        month  no of guests\n",
      "0      August          3257\n",
      "1        July          3137\n",
      "2     October          2575\n",
      "3       March          2571\n",
      "4       April          2550\n",
      "5         May          2535\n",
      "6    February          2308\n",
      "7   September          2102\n",
      "8        June          2037\n",
      "9    December          2014\n",
      "10   November          1975\n",
      "11    January          1866\n"
     ]
    }
   ],
   "source": [
    "rush_resort = data_resort[\"arrival_date_month\"].value_counts().reset_index()\n",
    "rush_resort.columns = [\"month\", \"no of guests\"]\n",
    "\n",
    "print(rush_resort)"
   ]
  },
  {
   "cell_type": "code",
   "execution_count": 58,
   "id": "2e59f291",
   "metadata": {
    "scrolled": true
   },
   "outputs": [
    {
     "name": "stdout",
     "output_type": "stream",
     "text": [
      "        month  no of guests\n",
      "0      August          5367\n",
      "1        July          4770\n",
      "2         May          4568\n",
      "3        June          4358\n",
      "4     October          4326\n",
      "5   September          4283\n",
      "6       March          4049\n",
      "7       April          4010\n",
      "8    February          3051\n",
      "9    November          2676\n",
      "10   December          2377\n",
      "11    January          2249\n"
     ]
    }
   ],
   "source": [
    "rush_city = data_city[\"arrival_date_month\"].value_counts().reset_index()\n",
    "rush_city.columns = [\"month\", \"no of guests\"]\n",
    "\n",
    "print(rush_city)"
   ]
  },
  {
   "cell_type": "code",
   "execution_count": 59,
   "id": "4e753000",
   "metadata": {
    "scrolled": true
   },
   "outputs": [
    {
     "data": {
      "text/html": [
       "<div>\n",
       "<style scoped>\n",
       "    .dataframe tbody tr th:only-of-type {\n",
       "        vertical-align: middle;\n",
       "    }\n",
       "\n",
       "    .dataframe tbody tr th {\n",
       "        vertical-align: top;\n",
       "    }\n",
       "\n",
       "    .dataframe thead th {\n",
       "        text-align: right;\n",
       "    }\n",
       "</style>\n",
       "<table border=\"1\" class=\"dataframe\">\n",
       "  <thead>\n",
       "    <tr style=\"text-align: right;\">\n",
       "      <th></th>\n",
       "      <th>month</th>\n",
       "      <th>no of guests in resort hotel</th>\n",
       "      <th>no of guests in city hotel</th>\n",
       "    </tr>\n",
       "  </thead>\n",
       "  <tbody>\n",
       "    <tr>\n",
       "      <th>0</th>\n",
       "      <td>August</td>\n",
       "      <td>3257</td>\n",
       "      <td>5367</td>\n",
       "    </tr>\n",
       "    <tr>\n",
       "      <th>1</th>\n",
       "      <td>July</td>\n",
       "      <td>3137</td>\n",
       "      <td>4770</td>\n",
       "    </tr>\n",
       "    <tr>\n",
       "      <th>2</th>\n",
       "      <td>October</td>\n",
       "      <td>2575</td>\n",
       "      <td>4326</td>\n",
       "    </tr>\n",
       "    <tr>\n",
       "      <th>3</th>\n",
       "      <td>March</td>\n",
       "      <td>2571</td>\n",
       "      <td>4049</td>\n",
       "    </tr>\n",
       "    <tr>\n",
       "      <th>4</th>\n",
       "      <td>April</td>\n",
       "      <td>2550</td>\n",
       "      <td>4010</td>\n",
       "    </tr>\n",
       "    <tr>\n",
       "      <th>5</th>\n",
       "      <td>May</td>\n",
       "      <td>2535</td>\n",
       "      <td>4568</td>\n",
       "    </tr>\n",
       "    <tr>\n",
       "      <th>6</th>\n",
       "      <td>February</td>\n",
       "      <td>2308</td>\n",
       "      <td>3051</td>\n",
       "    </tr>\n",
       "    <tr>\n",
       "      <th>7</th>\n",
       "      <td>September</td>\n",
       "      <td>2102</td>\n",
       "      <td>4283</td>\n",
       "    </tr>\n",
       "    <tr>\n",
       "      <th>8</th>\n",
       "      <td>June</td>\n",
       "      <td>2037</td>\n",
       "      <td>4358</td>\n",
       "    </tr>\n",
       "    <tr>\n",
       "      <th>9</th>\n",
       "      <td>December</td>\n",
       "      <td>2014</td>\n",
       "      <td>2377</td>\n",
       "    </tr>\n",
       "    <tr>\n",
       "      <th>10</th>\n",
       "      <td>November</td>\n",
       "      <td>1975</td>\n",
       "      <td>2676</td>\n",
       "    </tr>\n",
       "    <tr>\n",
       "      <th>11</th>\n",
       "      <td>January</td>\n",
       "      <td>1866</td>\n",
       "      <td>2249</td>\n",
       "    </tr>\n",
       "  </tbody>\n",
       "</table>\n",
       "</div>"
      ],
      "text/plain": [
       "        month  no of guests in resort hotel  no of guests in city hotel\n",
       "0      August                          3257                        5367\n",
       "1        July                          3137                        4770\n",
       "2     October                          2575                        4326\n",
       "3       March                          2571                        4049\n",
       "4       April                          2550                        4010\n",
       "5         May                          2535                        4568\n",
       "6    February                          2308                        3051\n",
       "7   September                          2102                        4283\n",
       "8        June                          2037                        4358\n",
       "9    December                          2014                        2377\n",
       "10   November                          1975                        2676\n",
       "11    January                          1866                        2249"
      ]
     },
     "execution_count": 59,
     "metadata": {},
     "output_type": "execute_result"
    }
   ],
   "source": [
    "#merge two data frame rush_resort , rush_city\n",
    "\n",
    "final_rush = rush_resort.merge(rush_city, on = \"month\")\n",
    "\n",
    "final_rush.columns = [\"month\", \"no of guests in resort hotel\", \"no of guests in city hotel\"]\n",
    "\n",
    "final_rush"
   ]
  },
  {
   "cell_type": "code",
   "execution_count": 60,
   "id": "b507d86e",
   "metadata": {},
   "outputs": [
    {
     "name": "stdout",
     "output_type": "stream",
     "text": [
      "        month  no of guests in resort hotel  no of guests in city hotel\n",
      "0     January                          1866                        2249\n",
      "1    February                          2308                        3051\n",
      "2       March                          2571                        4049\n",
      "3       April                          2550                        4010\n",
      "4         May                          2535                        4568\n",
      "5        June                          2037                        4358\n",
      "6        July                          3137                        4770\n",
      "7      August                          3257                        5367\n",
      "8   September                          2102                        4283\n",
      "9     October                          2575                        4326\n",
      "10   November                          1975                        2676\n",
      "11   December                          2014                        2377\n"
     ]
    }
   ],
   "source": [
    "final_rush = sort_month(final_rush, \"month\")\n",
    "print(final_rush)"
   ]
  },
  {
   "cell_type": "code",
   "execution_count": 61,
   "id": "476e5e91",
   "metadata": {
    "scrolled": true
   },
   "outputs": [
    {
     "data": {
      "image/png": "[encoded data removed]",
      "text/plain": [
       "<Figure size 640x480 with 1 Axes>"
      ]
     },
     "metadata": {},
     "output_type": "display_data"
    }
   ],
   "source": [
    "#plot line plot month vs no of guests\n",
    "\n",
    "ax = final_rush.plot(kind=\"line\", \n",
    "                     x=\"month\", \n",
    "                     y=[\"no of guests in resort hotel\", \"no of guests in city hotel\"])\n",
    "\n",
    "# Save the plot\n",
    "ax.figure.savefig(\"guests_lineplot.png\", dpi=300)\n",
    "\n",
    "# Show the plot\n",
    "plt.show()\n",
    "\n",
    "\n"
   ]
  },
  {
   "cell_type": "markdown",
   "id": "0794abee",
   "metadata": {},
   "source": [
    "# How long do people stay at the hotels?"
   ]
  },
  {
   "cell_type": "code",
   "execution_count": 62,
   "id": "48fd0d41",
   "metadata": {},
   "outputs": [],
   "source": [
    "filter_condition = final_data['is_canceled'] == 0\n",
    "\n",
    "clean_data = final_data[filter_condition]\n"
   ]
  },
  {
   "cell_type": "code",
   "execution_count": 63,
   "id": "f1f40a36",
   "metadata": {
    "scrolled": true
   },
   "outputs": [
    {
     "data": {
      "text/html": [
       "<div>\n",
       "<style scoped>\n",
       "    .dataframe tbody tr th:only-of-type {\n",
       "        vertical-align: middle;\n",
       "    }\n",
       "\n",
       "    .dataframe tbody tr th {\n",
       "        vertical-align: top;\n",
       "    }\n",
       "\n",
       "    .dataframe thead th {\n",
       "        text-align: right;\n",
       "    }\n",
       "</style>\n",
       "<table border=\"1\" class=\"dataframe\">\n",
       "  <thead>\n",
       "    <tr style=\"text-align: right;\">\n",
       "      <th></th>\n",
       "      <th>hotel</th>\n",
       "      <th>is_canceled</th>\n",
       "      <th>lead_time</th>\n",
       "      <th>arrival_date_year</th>\n",
       "      <th>arrival_date_month</th>\n",
       "      <th>arrival_date_week_number</th>\n",
       "      <th>arrival_date_day_of_month</th>\n",
       "      <th>stays_in_weekend_nights</th>\n",
       "      <th>stays_in_week_nights</th>\n",
       "      <th>adults</th>\n",
       "      <th>...</th>\n",
       "      <th>deposit_type</th>\n",
       "      <th>agent</th>\n",
       "      <th>company</th>\n",
       "      <th>days_in_waiting_list</th>\n",
       "      <th>customer_type</th>\n",
       "      <th>adr</th>\n",
       "      <th>required_car_parking_spaces</th>\n",
       "      <th>total_of_special_requests</th>\n",
       "      <th>reservation_status</th>\n",
       "      <th>reservation_status_date</th>\n",
       "    </tr>\n",
       "  </thead>\n",
       "  <tbody>\n",
       "    <tr>\n",
       "      <th>0</th>\n",
       "      <td>Resort Hotel</td>\n",
       "      <td>0</td>\n",
       "      <td>342</td>\n",
       "      <td>2015</td>\n",
       "      <td>July</td>\n",
       "      <td>27</td>\n",
       "      <td>1</td>\n",
       "      <td>0</td>\n",
       "      <td>0</td>\n",
       "      <td>2</td>\n",
       "      <td>...</td>\n",
       "      <td>No Deposit</td>\n",
       "      <td>0.0</td>\n",
       "      <td>0.0</td>\n",
       "      <td>0</td>\n",
       "      <td>Transient</td>\n",
       "      <td>0.0</td>\n",
       "      <td>0</td>\n",
       "      <td>0</td>\n",
       "      <td>Check-Out</td>\n",
       "      <td>7/1/2015</td>\n",
       "    </tr>\n",
       "    <tr>\n",
       "      <th>1</th>\n",
       "      <td>Resort Hotel</td>\n",
       "      <td>0</td>\n",
       "      <td>737</td>\n",
       "      <td>2015</td>\n",
       "      <td>July</td>\n",
       "      <td>27</td>\n",
       "      <td>1</td>\n",
       "      <td>0</td>\n",
       "      <td>0</td>\n",
       "      <td>2</td>\n",
       "      <td>...</td>\n",
       "      <td>No Deposit</td>\n",
       "      <td>0.0</td>\n",
       "      <td>0.0</td>\n",
       "      <td>0</td>\n",
       "      <td>Transient</td>\n",
       "      <td>0.0</td>\n",
       "      <td>0</td>\n",
       "      <td>0</td>\n",
       "      <td>Check-Out</td>\n",
       "      <td>7/1/2015</td>\n",
       "    </tr>\n",
       "    <tr>\n",
       "      <th>2</th>\n",
       "      <td>Resort Hotel</td>\n",
       "      <td>0</td>\n",
       "      <td>7</td>\n",
       "      <td>2015</td>\n",
       "      <td>July</td>\n",
       "      <td>27</td>\n",
       "      <td>1</td>\n",
       "      <td>0</td>\n",
       "      <td>1</td>\n",
       "      <td>1</td>\n",
       "      <td>...</td>\n",
       "      <td>No Deposit</td>\n",
       "      <td>0.0</td>\n",
       "      <td>0.0</td>\n",
       "      <td>0</td>\n",
       "      <td>Transient</td>\n",
       "      <td>75.0</td>\n",
       "      <td>0</td>\n",
       "      <td>0</td>\n",
       "      <td>Check-Out</td>\n",
       "      <td>7/2/2015</td>\n",
       "    </tr>\n",
       "    <tr>\n",
       "      <th>3</th>\n",
       "      <td>Resort Hotel</td>\n",
       "      <td>0</td>\n",
       "      <td>13</td>\n",
       "      <td>2015</td>\n",
       "      <td>July</td>\n",
       "      <td>27</td>\n",
       "      <td>1</td>\n",
       "      <td>0</td>\n",
       "      <td>1</td>\n",
       "      <td>1</td>\n",
       "      <td>...</td>\n",
       "      <td>No Deposit</td>\n",
       "      <td>304.0</td>\n",
       "      <td>0.0</td>\n",
       "      <td>0</td>\n",
       "      <td>Transient</td>\n",
       "      <td>75.0</td>\n",
       "      <td>0</td>\n",
       "      <td>0</td>\n",
       "      <td>Check-Out</td>\n",
       "      <td>7/2/2015</td>\n",
       "    </tr>\n",
       "    <tr>\n",
       "      <th>4</th>\n",
       "      <td>Resort Hotel</td>\n",
       "      <td>0</td>\n",
       "      <td>14</td>\n",
       "      <td>2015</td>\n",
       "      <td>July</td>\n",
       "      <td>27</td>\n",
       "      <td>1</td>\n",
       "      <td>0</td>\n",
       "      <td>2</td>\n",
       "      <td>2</td>\n",
       "      <td>...</td>\n",
       "      <td>No Deposit</td>\n",
       "      <td>240.0</td>\n",
       "      <td>0.0</td>\n",
       "      <td>0</td>\n",
       "      <td>Transient</td>\n",
       "      <td>98.0</td>\n",
       "      <td>0</td>\n",
       "      <td>1</td>\n",
       "      <td>Check-Out</td>\n",
       "      <td>7/3/2015</td>\n",
       "    </tr>\n",
       "  </tbody>\n",
       "</table>\n",
       "<p>5 rows × 32 columns</p>\n",
       "</div>"
      ],
      "text/plain": [
       "          hotel  is_canceled  lead_time  arrival_date_year arrival_date_month  \\\n",
       "0  Resort Hotel            0        342               2015               July   \n",
       "1  Resort Hotel            0        737               2015               July   \n",
       "2  Resort Hotel            0          7               2015               July   \n",
       "3  Resort Hotel            0         13               2015               July   \n",
       "4  Resort Hotel            0         14               2015               July   \n",
       "\n",
       "   arrival_date_week_number  arrival_date_day_of_month  \\\n",
       "0                        27                          1   \n",
       "1                        27                          1   \n",
       "2                        27                          1   \n",
       "3                        27                          1   \n",
       "4                        27                          1   \n",
       "\n",
       "   stays_in_weekend_nights  stays_in_week_nights  adults  ...  deposit_type  \\\n",
       "0                        0                     0       2  ...    No Deposit   \n",
       "1                        0                     0       2  ...    No Deposit   \n",
       "2                        0                     1       1  ...    No Deposit   \n",
       "3                        0                     1       1  ...    No Deposit   \n",
       "4                        0                     2       2  ...    No Deposit   \n",
       "\n",
       "   agent company days_in_waiting_list customer_type   adr  \\\n",
       "0    0.0     0.0                    0     Transient   0.0   \n",
       "1    0.0     0.0                    0     Transient   0.0   \n",
       "2    0.0     0.0                    0     Transient  75.0   \n",
       "3  304.0     0.0                    0     Transient  75.0   \n",
       "4  240.0     0.0                    0     Transient  98.0   \n",
       "\n",
       "   required_car_parking_spaces  total_of_special_requests  reservation_status  \\\n",
       "0                            0                          0           Check-Out   \n",
       "1                            0                          0           Check-Out   \n",
       "2                            0                          0           Check-Out   \n",
       "3                            0                          0           Check-Out   \n",
       "4                            0                          1           Check-Out   \n",
       "\n",
       "  reservation_status_date  \n",
       "0                7/1/2015  \n",
       "1                7/1/2015  \n",
       "2                7/2/2015  \n",
       "3                7/2/2015  \n",
       "4                7/3/2015  \n",
       "\n",
       "[5 rows x 32 columns]"
      ]
     },
     "execution_count": 63,
     "metadata": {},
     "output_type": "execute_result"
    }
   ],
   "source": [
    "clean_data.head()"
   ]
  },
  {
   "cell_type": "code",
   "execution_count": 64,
   "id": "fe15e9cb",
   "metadata": {
    "scrolled": true
   },
   "outputs": [
    {
     "name": "stderr",
     "output_type": "stream",
     "text": [
      "C:\\Users\\Ayush Kumar\\AppData\\Local\\Temp\\ipykernel_20240\\2600119523.py:1: SettingWithCopyWarning: \n",
      "A value is trying to be set on a copy of a slice from a DataFrame.\n",
      "Try using .loc[row_indexer,col_indexer] = value instead\n",
      "\n",
      "See the caveats in the documentation: https://pandas.pydata.org/pandas-docs/stable/user_guide/indexing.html#returning-a-view-versus-a-copy\n",
      "  clean_data[\"total_nights\"] = clean_data[\"stays_in_weekend_nights\"] + clean_data[\"stays_in_week_nights\"]\n"
     ]
    }
   ],
   "source": [
    "clean_data[\"total_nights\"] = clean_data[\"stays_in_weekend_nights\"] + clean_data[\"stays_in_week_nights\"]"
   ]
  },
  {
   "cell_type": "code",
   "execution_count": 65,
   "id": "d1769126",
   "metadata": {
    "scrolled": true
   },
   "outputs": [
    {
     "data": {
      "text/html": [
       "<div>\n",
       "<style scoped>\n",
       "    .dataframe tbody tr th:only-of-type {\n",
       "        vertical-align: middle;\n",
       "    }\n",
       "\n",
       "    .dataframe tbody tr th {\n",
       "        vertical-align: top;\n",
       "    }\n",
       "\n",
       "    .dataframe thead th {\n",
       "        text-align: right;\n",
       "    }\n",
       "</style>\n",
       "<table border=\"1\" class=\"dataframe\">\n",
       "  <thead>\n",
       "    <tr style=\"text-align: right;\">\n",
       "      <th></th>\n",
       "      <th>hotel</th>\n",
       "      <th>is_canceled</th>\n",
       "      <th>lead_time</th>\n",
       "      <th>arrival_date_year</th>\n",
       "      <th>arrival_date_month</th>\n",
       "      <th>arrival_date_week_number</th>\n",
       "      <th>arrival_date_day_of_month</th>\n",
       "      <th>stays_in_weekend_nights</th>\n",
       "      <th>stays_in_week_nights</th>\n",
       "      <th>adults</th>\n",
       "      <th>...</th>\n",
       "      <th>agent</th>\n",
       "      <th>company</th>\n",
       "      <th>days_in_waiting_list</th>\n",
       "      <th>customer_type</th>\n",
       "      <th>adr</th>\n",
       "      <th>required_car_parking_spaces</th>\n",
       "      <th>total_of_special_requests</th>\n",
       "      <th>reservation_status</th>\n",
       "      <th>reservation_status_date</th>\n",
       "      <th>total_nights</th>\n",
       "    </tr>\n",
       "  </thead>\n",
       "  <tbody>\n",
       "    <tr>\n",
       "      <th>0</th>\n",
       "      <td>Resort Hotel</td>\n",
       "      <td>0</td>\n",
       "      <td>342</td>\n",
       "      <td>2015</td>\n",
       "      <td>July</td>\n",
       "      <td>27</td>\n",
       "      <td>1</td>\n",
       "      <td>0</td>\n",
       "      <td>0</td>\n",
       "      <td>2</td>\n",
       "      <td>...</td>\n",
       "      <td>0.0</td>\n",
       "      <td>0.0</td>\n",
       "      <td>0</td>\n",
       "      <td>Transient</td>\n",
       "      <td>0.0</td>\n",
       "      <td>0</td>\n",
       "      <td>0</td>\n",
       "      <td>Check-Out</td>\n",
       "      <td>7/1/2015</td>\n",
       "      <td>0</td>\n",
       "    </tr>\n",
       "    <tr>\n",
       "      <th>1</th>\n",
       "      <td>Resort Hotel</td>\n",
       "      <td>0</td>\n",
       "      <td>737</td>\n",
       "      <td>2015</td>\n",
       "      <td>July</td>\n",
       "      <td>27</td>\n",
       "      <td>1</td>\n",
       "      <td>0</td>\n",
       "      <td>0</td>\n",
       "      <td>2</td>\n",
       "      <td>...</td>\n",
       "      <td>0.0</td>\n",
       "      <td>0.0</td>\n",
       "      <td>0</td>\n",
       "      <td>Transient</td>\n",
       "      <td>0.0</td>\n",
       "      <td>0</td>\n",
       "      <td>0</td>\n",
       "      <td>Check-Out</td>\n",
       "      <td>7/1/2015</td>\n",
       "      <td>0</td>\n",
       "    </tr>\n",
       "    <tr>\n",
       "      <th>2</th>\n",
       "      <td>Resort Hotel</td>\n",
       "      <td>0</td>\n",
       "      <td>7</td>\n",
       "      <td>2015</td>\n",
       "      <td>July</td>\n",
       "      <td>27</td>\n",
       "      <td>1</td>\n",
       "      <td>0</td>\n",
       "      <td>1</td>\n",
       "      <td>1</td>\n",
       "      <td>...</td>\n",
       "      <td>0.0</td>\n",
       "      <td>0.0</td>\n",
       "      <td>0</td>\n",
       "      <td>Transient</td>\n",
       "      <td>75.0</td>\n",
       "      <td>0</td>\n",
       "      <td>0</td>\n",
       "      <td>Check-Out</td>\n",
       "      <td>7/2/2015</td>\n",
       "      <td>1</td>\n",
       "    </tr>\n",
       "    <tr>\n",
       "      <th>3</th>\n",
       "      <td>Resort Hotel</td>\n",
       "      <td>0</td>\n",
       "      <td>13</td>\n",
       "      <td>2015</td>\n",
       "      <td>July</td>\n",
       "      <td>27</td>\n",
       "      <td>1</td>\n",
       "      <td>0</td>\n",
       "      <td>1</td>\n",
       "      <td>1</td>\n",
       "      <td>...</td>\n",
       "      <td>304.0</td>\n",
       "      <td>0.0</td>\n",
       "      <td>0</td>\n",
       "      <td>Transient</td>\n",
       "      <td>75.0</td>\n",
       "      <td>0</td>\n",
       "      <td>0</td>\n",
       "      <td>Check-Out</td>\n",
       "      <td>7/2/2015</td>\n",
       "      <td>1</td>\n",
       "    </tr>\n",
       "    <tr>\n",
       "      <th>4</th>\n",
       "      <td>Resort Hotel</td>\n",
       "      <td>0</td>\n",
       "      <td>14</td>\n",
       "      <td>2015</td>\n",
       "      <td>July</td>\n",
       "      <td>27</td>\n",
       "      <td>1</td>\n",
       "      <td>0</td>\n",
       "      <td>2</td>\n",
       "      <td>2</td>\n",
       "      <td>...</td>\n",
       "      <td>240.0</td>\n",
       "      <td>0.0</td>\n",
       "      <td>0</td>\n",
       "      <td>Transient</td>\n",
       "      <td>98.0</td>\n",
       "      <td>0</td>\n",
       "      <td>1</td>\n",
       "      <td>Check-Out</td>\n",
       "      <td>7/3/2015</td>\n",
       "      <td>2</td>\n",
       "    </tr>\n",
       "  </tbody>\n",
       "</table>\n",
       "<p>5 rows × 33 columns</p>\n",
       "</div>"
      ],
      "text/plain": [
       "          hotel  is_canceled  lead_time  arrival_date_year arrival_date_month  \\\n",
       "0  Resort Hotel            0        342               2015               July   \n",
       "1  Resort Hotel            0        737               2015               July   \n",
       "2  Resort Hotel            0          7               2015               July   \n",
       "3  Resort Hotel            0         13               2015               July   \n",
       "4  Resort Hotel            0         14               2015               July   \n",
       "\n",
       "   arrival_date_week_number  arrival_date_day_of_month  \\\n",
       "0                        27                          1   \n",
       "1                        27                          1   \n",
       "2                        27                          1   \n",
       "3                        27                          1   \n",
       "4                        27                          1   \n",
       "\n",
       "   stays_in_weekend_nights  stays_in_week_nights  adults  ...  agent  company  \\\n",
       "0                        0                     0       2  ...    0.0      0.0   \n",
       "1                        0                     0       2  ...    0.0      0.0   \n",
       "2                        0                     1       1  ...    0.0      0.0   \n",
       "3                        0                     1       1  ...  304.0      0.0   \n",
       "4                        0                     2       2  ...  240.0      0.0   \n",
       "\n",
       "  days_in_waiting_list customer_type   adr required_car_parking_spaces  \\\n",
       "0                    0     Transient   0.0                           0   \n",
       "1                    0     Transient   0.0                           0   \n",
       "2                    0     Transient  75.0                           0   \n",
       "3                    0     Transient  75.0                           0   \n",
       "4                    0     Transient  98.0                           0   \n",
       "\n",
       "   total_of_special_requests  reservation_status  reservation_status_date  \\\n",
       "0                          0           Check-Out                 7/1/2015   \n",
       "1                          0           Check-Out                 7/1/2015   \n",
       "2                          0           Check-Out                 7/2/2015   \n",
       "3                          0           Check-Out                 7/2/2015   \n",
       "4                          1           Check-Out                 7/3/2015   \n",
       "\n",
       "  total_nights  \n",
       "0            0  \n",
       "1            0  \n",
       "2            1  \n",
       "3            1  \n",
       "4            2  \n",
       "\n",
       "[5 rows x 33 columns]"
      ]
     },
     "execution_count": 65,
     "metadata": {},
     "output_type": "execute_result"
    }
   ],
   "source": [
    "clean_data.head()"
   ]
  },
  {
   "cell_type": "code",
   "execution_count": 66,
   "id": "650ecbfb",
   "metadata": {
    "scrolled": true
   },
   "outputs": [
    {
     "name": "stdout",
     "output_type": "stream",
     "text": [
      "    total_nights         hotel  is_canceled\n",
      "0              0    City Hotel          251\n",
      "1              0  Resort Hotel          371\n",
      "2              1    City Hotel         9155\n",
      "3              1  Resort Hotel         6579\n",
      "4              2    City Hotel        10983\n",
      "..           ...           ...          ...\n",
      "57            46  Resort Hotel            1\n",
      "58            48    City Hotel            1\n",
      "59            56  Resort Hotel            1\n",
      "60            60  Resort Hotel            1\n",
      "61            69  Resort Hotel            1\n",
      "\n",
      "[62 rows x 3 columns]\n"
     ]
    }
   ],
   "source": [
    "stay = clean_data.groupby([\"total_nights\", \"hotel\"]).agg('count').reset_index()\n",
    "\n",
    "stay = stay.iloc[:, 0:3]\n",
    "print(stay)"
   ]
  },
  {
   "cell_type": "code",
   "execution_count": 67,
   "id": "3fb9c295",
   "metadata": {},
   "outputs": [],
   "source": [
    "stay = stay.rename(columns = {'is_canceled': 'Number of stays'})"
   ]
  },
  {
   "cell_type": "code",
   "execution_count": 68,
   "id": "852f7ed7",
   "metadata": {
    "scrolled": true
   },
   "outputs": [
    {
     "name": "stdout",
     "output_type": "stream",
     "text": [
      "    total_nights         hotel  Number of stays\n",
      "0              0    City Hotel              251\n",
      "1              0  Resort Hotel              371\n",
      "2              1    City Hotel             9155\n",
      "3              1  Resort Hotel             6579\n",
      "4              2    City Hotel            10983\n",
      "..           ...           ...              ...\n",
      "57            46  Resort Hotel                1\n",
      "58            48    City Hotel                1\n",
      "59            56  Resort Hotel                1\n",
      "60            60  Resort Hotel                1\n",
      "61            69  Resort Hotel                1\n",
      "\n",
      "[62 rows x 3 columns]\n"
     ]
    }
   ],
   "source": [
    "print(stay)"
   ]
  },
  {
   "cell_type": "code",
   "execution_count": 73,
   "id": "9ffbc83e",
   "metadata": {},
   "outputs": [
    {
     "data": {
      "text/plain": [
       "<Axes: xlabel='total_nights', ylabel='Number of stays'>"
      ]
     },
     "execution_count": 73,
     "metadata": {},
     "output_type": "execute_result"
    },
    {
     "data": {
      "image/png": "[encoded data removed]",
      "text/plain": [
       "<Figure size 640x480 with 1 Axes>"
      ]
     },
     "metadata": {},
     "output_type": "display_data"
    }
   ],
   "source": [
    "#plot the barplot\n",
    "\n",
    "sns.barplot(x = \"total_nights\", y = \"Number of stays\", hue = \"hotel\",\n",
    "           hue_order = [\"City Hotel\", \"Resort Hotel\"], data = stay)\n",
    "\n"
   ]
  },
  {
   "cell_type": "markdown",
   "id": "8cf7d970",
   "metadata": {},
   "source": [
    "# Select Important Numerical Features using Co-relation"
   ]
  },
  {
   "cell_type": "code",
   "execution_count": 74,
   "id": "8d195125",
   "metadata": {
    "scrolled": true
   },
   "outputs": [
    {
     "ename": "ValueError",
     "evalue": "could not convert string to float: 'Resort Hotel'",
     "output_type": "error",
     "traceback": [
      "\u001b[1;31m---------------------------------------------------------------------------\u001b[0m",
      "\u001b[1;31mValueError\u001b[0m                                Traceback (most recent call last)",
      "Cell \u001b[1;32mIn[74], line 1\u001b[0m\n\u001b[1;32m----> 1\u001b[0m correlation \u001b[38;5;241m=\u001b[39m \u001b[43mfinal_data\u001b[49m\u001b[38;5;241;43m.\u001b[39;49m\u001b[43mcorr\u001b[49m\u001b[43m(\u001b[49m\u001b[43m)\u001b[49m\n",
      "File \u001b[1;32m~\\AppData\\Local\\Programs\\Python\\Python312\\Lib\\site-packages\\pandas\\core\\frame.py:11036\u001b[0m, in \u001b[0;36mDataFrame.corr\u001b[1;34m(self, method, min_periods, numeric_only)\u001b[0m\n\u001b[0;32m  11034\u001b[0m cols \u001b[38;5;241m=\u001b[39m data\u001b[38;5;241m.\u001b[39mcolumns\n\u001b[0;32m  11035\u001b[0m idx \u001b[38;5;241m=\u001b[39m cols\u001b[38;5;241m.\u001b[39mcopy()\n\u001b[1;32m> 11036\u001b[0m mat \u001b[38;5;241m=\u001b[39m \u001b[43mdata\u001b[49m\u001b[38;5;241;43m.\u001b[39;49m\u001b[43mto_numpy\u001b[49m\u001b[43m(\u001b[49m\u001b[43mdtype\u001b[49m\u001b[38;5;241;43m=\u001b[39;49m\u001b[38;5;28;43mfloat\u001b[39;49m\u001b[43m,\u001b[49m\u001b[43m \u001b[49m\u001b[43mna_value\u001b[49m\u001b[38;5;241;43m=\u001b[39;49m\u001b[43mnp\u001b[49m\u001b[38;5;241;43m.\u001b[39;49m\u001b[43mnan\u001b[49m\u001b[43m,\u001b[49m\u001b[43m \u001b[49m\u001b[43mcopy\u001b[49m\u001b[38;5;241;43m=\u001b[39;49m\u001b[38;5;28;43;01mFalse\u001b[39;49;00m\u001b[43m)\u001b[49m\n\u001b[0;32m  11038\u001b[0m \u001b[38;5;28;01mif\u001b[39;00m method \u001b[38;5;241m==\u001b[39m \u001b[38;5;124m\"\u001b[39m\u001b[38;5;124mpearson\u001b[39m\u001b[38;5;124m\"\u001b[39m:\n\u001b[0;32m  11039\u001b[0m     correl \u001b[38;5;241m=\u001b[39m libalgos\u001b[38;5;241m.\u001b[39mnancorr(mat, minp\u001b[38;5;241m=\u001b[39mmin_periods)\n",
      "File \u001b[1;32m~\\AppData\\Local\\Programs\\Python\\Python312\\Lib\\site-packages\\pandas\\core\\frame.py:1981\u001b[0m, in \u001b[0;36mDataFrame.to_numpy\u001b[1;34m(self, dtype, copy, na_value)\u001b[0m\n\u001b[0;32m   1979\u001b[0m \u001b[38;5;28;01mif\u001b[39;00m dtype \u001b[38;5;129;01mis\u001b[39;00m \u001b[38;5;129;01mnot\u001b[39;00m \u001b[38;5;28;01mNone\u001b[39;00m:\n\u001b[0;32m   1980\u001b[0m     dtype \u001b[38;5;241m=\u001b[39m np\u001b[38;5;241m.\u001b[39mdtype(dtype)\n\u001b[1;32m-> 1981\u001b[0m result \u001b[38;5;241m=\u001b[39m \u001b[38;5;28;43mself\u001b[39;49m\u001b[38;5;241;43m.\u001b[39;49m\u001b[43m_mgr\u001b[49m\u001b[38;5;241;43m.\u001b[39;49m\u001b[43mas_array\u001b[49m\u001b[43m(\u001b[49m\u001b[43mdtype\u001b[49m\u001b[38;5;241;43m=\u001b[39;49m\u001b[43mdtype\u001b[49m\u001b[43m,\u001b[49m\u001b[43m \u001b[49m\u001b[43mcopy\u001b[49m\u001b[38;5;241;43m=\u001b[39;49m\u001b[43mcopy\u001b[49m\u001b[43m,\u001b[49m\u001b[43m \u001b[49m\u001b[43mna_value\u001b[49m\u001b[38;5;241;43m=\u001b[39;49m\u001b[43mna_value\u001b[49m\u001b[43m)\u001b[49m\n\u001b[0;32m   1982\u001b[0m \u001b[38;5;28;01mif\u001b[39;00m result\u001b[38;5;241m.\u001b[39mdtype \u001b[38;5;129;01mis\u001b[39;00m \u001b[38;5;129;01mnot\u001b[39;00m dtype:\n\u001b[0;32m   1983\u001b[0m     result \u001b[38;5;241m=\u001b[39m np\u001b[38;5;241m.\u001b[39marray(result, dtype\u001b[38;5;241m=\u001b[39mdtype, copy\u001b[38;5;241m=\u001b[39m\u001b[38;5;28;01mFalse\u001b[39;00m)\n",
      "File \u001b[1;32m~\\AppData\\Local\\Programs\\Python\\Python312\\Lib\\site-packages\\pandas\\core\\internals\\managers.py:1692\u001b[0m, in \u001b[0;36mBlockManager.as_array\u001b[1;34m(self, dtype, copy, na_value)\u001b[0m\n\u001b[0;32m   1690\u001b[0m         arr\u001b[38;5;241m.\u001b[39mflags\u001b[38;5;241m.\u001b[39mwriteable \u001b[38;5;241m=\u001b[39m \u001b[38;5;28;01mFalse\u001b[39;00m\n\u001b[0;32m   1691\u001b[0m \u001b[38;5;28;01melse\u001b[39;00m:\n\u001b[1;32m-> 1692\u001b[0m     arr \u001b[38;5;241m=\u001b[39m \u001b[38;5;28;43mself\u001b[39;49m\u001b[38;5;241;43m.\u001b[39;49m\u001b[43m_interleave\u001b[49m\u001b[43m(\u001b[49m\u001b[43mdtype\u001b[49m\u001b[38;5;241;43m=\u001b[39;49m\u001b[43mdtype\u001b[49m\u001b[43m,\u001b[49m\u001b[43m \u001b[49m\u001b[43mna_value\u001b[49m\u001b[38;5;241;43m=\u001b[39;49m\u001b[43mna_value\u001b[49m\u001b[43m)\u001b[49m\n\u001b[0;32m   1693\u001b[0m     \u001b[38;5;66;03m# The underlying data was copied within _interleave, so no need\u001b[39;00m\n\u001b[0;32m   1694\u001b[0m     \u001b[38;5;66;03m# to further copy if copy=True or setting na_value\u001b[39;00m\n\u001b[0;32m   1696\u001b[0m \u001b[38;5;28;01mif\u001b[39;00m na_value \u001b[38;5;129;01mis\u001b[39;00m lib\u001b[38;5;241m.\u001b[39mno_default:\n",
      "File \u001b[1;32m~\\AppData\\Local\\Programs\\Python\\Python312\\Lib\\site-packages\\pandas\\core\\internals\\managers.py:1751\u001b[0m, in \u001b[0;36mBlockManager._interleave\u001b[1;34m(self, dtype, na_value)\u001b[0m\n\u001b[0;32m   1749\u001b[0m     \u001b[38;5;28;01melse\u001b[39;00m:\n\u001b[0;32m   1750\u001b[0m         arr \u001b[38;5;241m=\u001b[39m blk\u001b[38;5;241m.\u001b[39mget_values(dtype)\n\u001b[1;32m-> 1751\u001b[0m     \u001b[43mresult\u001b[49m\u001b[43m[\u001b[49m\u001b[43mrl\u001b[49m\u001b[38;5;241;43m.\u001b[39;49m\u001b[43mindexer\u001b[49m\u001b[43m]\u001b[49m \u001b[38;5;241m=\u001b[39m arr\n\u001b[0;32m   1752\u001b[0m     itemmask[rl\u001b[38;5;241m.\u001b[39mindexer] \u001b[38;5;241m=\u001b[39m \u001b[38;5;241m1\u001b[39m\n\u001b[0;32m   1754\u001b[0m \u001b[38;5;28;01mif\u001b[39;00m \u001b[38;5;129;01mnot\u001b[39;00m itemmask\u001b[38;5;241m.\u001b[39mall():\n",
      "\u001b[1;31mValueError\u001b[0m: could not convert string to float: 'Resort Hotel'"
     ]
    }
   ],
   "source": [
    "correlation = final_data.corr()"
   ]
  },
  {
   "cell_type": "code",
   "execution_count": 71,
   "id": "ddf9e8b9",
   "metadata": {},
   "outputs": [
    {
     "ename": "NameError",
     "evalue": "name 'correlation' is not defined",
     "output_type": "error",
     "traceback": [
      "\u001b[1;31m---------------------------------------------------------------------------\u001b[0m",
      "\u001b[1;31mNameError\u001b[0m                                 Traceback (most recent call last)",
      "Cell \u001b[1;32mIn[71], line 1\u001b[0m\n\u001b[1;32m----> 1\u001b[0m correlation \u001b[38;5;241m=\u001b[39m \u001b[43mcorrelation\u001b[49m[\u001b[38;5;124m\"\u001b[39m\u001b[38;5;124mis_canceled\u001b[39m\u001b[38;5;124m\"\u001b[39m][\u001b[38;5;241m1\u001b[39m:]\n",
      "\u001b[1;31mNameError\u001b[0m: name 'correlation' is not defined"
     ]
    }
   ],
   "source": [
    "correlation = correlation[\"is_canceled\"][1:]"
   ]
  },
  {
   "cell_type": "code",
   "execution_count": null,
   "id": "2dc08127",
   "metadata": {},
   "outputs": [],
   "source": [
    "correlation.abs().sort_values(ascending = False)"
   ]
  },
  {
   "cell_type": "code",
   "execution_count": null,
   "id": "d52ab74a",
   "metadata": {},
   "outputs": [],
   "source": [
    "list_not = [\"days_in_waiting_list\", \"arrival_date_year\"]"
   ]
  },
  {
   "cell_type": "code",
   "execution_count": null,
   "id": "a2da8780",
   "metadata": {},
   "outputs": [],
   "source": [
    "num_features = [col for col in final_data.columns if final_data[col].dtype != \"O\" and col not in list_not]  #numerical one"
   ]
  },
  {
   "cell_type": "code",
   "execution_count": null,
   "id": "004dc9d3",
   "metadata": {
    "scrolled": true
   },
   "outputs": [],
   "source": [
    "print(num_features)"
   ]
  },
  {
   "cell_type": "code",
   "execution_count": null,
   "id": "53ecd324",
   "metadata": {},
   "outputs": [],
   "source": []
  },
  {
   "cell_type": "markdown",
   "id": "0dc768a7",
   "metadata": {},
   "source": [
    "# Select important Categorical features"
   ]
  },
  {
   "cell_type": "code",
   "execution_count": null,
   "id": "58140b41",
   "metadata": {
    "scrolled": true
   },
   "outputs": [],
   "source": [
    "final_data[\"reservation_status\"].value_counts()"
   ]
  },
  {
   "cell_type": "code",
   "execution_count": null,
   "id": "c1a0312d",
   "metadata": {},
   "outputs": [],
   "source": [
    "final_data.columns"
   ]
  },
  {
   "cell_type": "code",
   "execution_count": null,
   "id": "cb122f30",
   "metadata": {},
   "outputs": [],
   "source": [
    "cat_not = [\"country\", \"reservation_status\", \"booking_changes\", \"assigned_room_type\", \"days_in_waiting_list\" ]"
   ]
  },
  {
   "cell_type": "code",
   "execution_count": null,
   "id": "cc317211",
   "metadata": {},
   "outputs": [],
   "source": [
    "cat_features = [col for col in final_data.columns \n",
    "                if final_data[col].dtype == \"O\" and col not in cat_not]"
   ]
  },
  {
   "cell_type": "code",
   "execution_count": null,
   "id": "aa7756f9",
   "metadata": {},
   "outputs": [],
   "source": [
    "print(cat_features)"
   ]
  },
  {
   "cell_type": "code",
   "execution_count": null,
   "id": "9b2f4557",
   "metadata": {
    "scrolled": true
   },
   "outputs": [],
   "source": [
    "print(num_features)"
   ]
  },
  {
   "cell_type": "code",
   "execution_count": null,
   "id": "91f5890a",
   "metadata": {},
   "outputs": [],
   "source": [
    "data_cat = final_data[cat_features]"
   ]
  },
  {
   "cell_type": "code",
   "execution_count": null,
   "id": "5e28c06f",
   "metadata": {
    "scrolled": true
   },
   "outputs": [],
   "source": [
    "print(data_cat.head())"
   ]
  },
  {
   "cell_type": "code",
   "execution_count": null,
   "id": "e912c9bb",
   "metadata": {},
   "outputs": [],
   "source": [
    "import warnings\n",
    "from warnings import filterwarnings\n",
    "filterwarnings(\"ignore\")\n",
    "\n",
    "data_cat[\"reservation_status_date\"] = pd.to_datetime(data_cat[\"reservation_status_date\"])\n"
   ]
  },
  {
   "cell_type": "code",
   "execution_count": null,
   "id": "96f998bc",
   "metadata": {},
   "outputs": [],
   "source": [
    "data_cat[\"year\"] = data_cat[\"reservation_status_date\"].dt.year\n",
    "\n",
    "data_cat[\"month\"] = data_cat[\"reservation_status_date\"].dt.month\n",
    "\n",
    "data_cat[\"day\"] = data_cat[\"reservation_status_date\"].dt.day"
   ]
  },
  {
   "cell_type": "code",
   "execution_count": null,
   "id": "c9e78b1c",
   "metadata": {
    "scrolled": true
   },
   "outputs": [],
   "source": [
    "data_cat.head()"
   ]
  },
  {
   "cell_type": "code",
   "execution_count": null,
   "id": "e27579a3",
   "metadata": {},
   "outputs": [],
   "source": [
    "data_cat.drop(\"reservation_status_date\", axis = 1, inplace = True)"
   ]
  },
  {
   "cell_type": "code",
   "execution_count": null,
   "id": "3b9dca0d",
   "metadata": {
    "scrolled": true
   },
   "outputs": [],
   "source": [
    "data_cat.head()"
   ]
  },
  {
   "cell_type": "markdown",
   "id": "87df8914",
   "metadata": {},
   "source": [
    "# Feature Encoding"
   ]
  },
  {
   "cell_type": "markdown",
   "id": "99a52bf7",
   "metadata": {},
   "source": [
    "## Mean Encoding Technique"
   ]
  },
  {
   "cell_type": "code",
   "execution_count": null,
   "id": "ac0b2c2c",
   "metadata": {},
   "outputs": [],
   "source": [
    "data_cat.columns"
   ]
  },
  {
   "cell_type": "code",
   "execution_count": null,
   "id": "843a3824",
   "metadata": {},
   "outputs": [],
   "source": [
    "data_cat[\"cancellation\"] = final_data[\"is_canceled\"]"
   ]
  },
  {
   "cell_type": "code",
   "execution_count": null,
   "id": "2f20db5b",
   "metadata": {},
   "outputs": [],
   "source": [
    "print(data_cat)"
   ]
  },
  {
   "cell_type": "code",
   "execution_count": null,
   "id": "80adc189",
   "metadata": {},
   "outputs": [],
   "source": [
    "def mean_encode(df, col, mean_col):\n",
    "    df_dict = df.groupby([col])[mean_col].mean().to_dict()\n",
    "    df[col] = df[col].map(df_dict)\n",
    "    return df\n",
    "\n",
    "for col in data_cat.columns[0:8]:\n",
    "    data_cat = mean_encode(data_cat, col, \"cancellation\")\n",
    "\n"
   ]
  },
  {
   "cell_type": "code",
   "execution_count": null,
   "id": "c187e143",
   "metadata": {
    "scrolled": true
   },
   "outputs": [],
   "source": [
    "data_cat.drop([\"cancellation\"], axis = 1, inplace = True)"
   ]
  },
  {
   "cell_type": "code",
   "execution_count": null,
   "id": "4022ace4",
   "metadata": {
    "scrolled": true
   },
   "outputs": [],
   "source": [
    "print(data_cat)"
   ]
  },
  {
   "cell_type": "markdown",
   "id": "fedc4149",
   "metadata": {},
   "source": [
    "# preparing our data"
   ]
  },
  {
   "cell_type": "code",
   "execution_count": null,
   "id": "5ce95227",
   "metadata": {},
   "outputs": [],
   "source": [
    "num_data = final_data[num_features] #numerical data\n",
    "\n",
    "cat_data = data_cat #categorical data\n",
    "\n",
    "\n",
    "dataframe = pd.concat([num_data, cat_data], axis = 1) #final dataframe\n"
   ]
  },
  {
   "cell_type": "code",
   "execution_count": null,
   "id": "082eaebc",
   "metadata": {},
   "outputs": [],
   "source": [
    "print(dataframe.head())"
   ]
  },
  {
   "cell_type": "markdown",
   "id": "f2736f30",
   "metadata": {},
   "source": [
    "# Handle the outliers"
   ]
  },
  {
   "cell_type": "code",
   "execution_count": null,
   "id": "cb1deafa",
   "metadata": {
    "scrolled": true
   },
   "outputs": [],
   "source": [
    "dataframe.describe()[\"adr\"]"
   ]
  },
  {
   "cell_type": "code",
   "execution_count": null,
   "id": "4431f735",
   "metadata": {
    "scrolled": true
   },
   "outputs": [],
   "source": [
    "\n",
    "#using seaborn library\n",
    "sns.distplot(dataframe[\"lead_time\"])"
   ]
  },
  {
   "cell_type": "code",
   "execution_count": null,
   "id": "80171480",
   "metadata": {},
   "outputs": [],
   "source": [
    "def handle_outlier(col):\n",
    "    dataframe[col] = np.log1p(dataframe[col])"
   ]
  },
  {
   "cell_type": "code",
   "execution_count": null,
   "id": "3555a26c",
   "metadata": {},
   "outputs": [],
   "source": []
  },
  {
   "cell_type": "code",
   "execution_count": null,
   "id": "b55b3511",
   "metadata": {},
   "outputs": [],
   "source": [
    "handle_outlier(\"lead_time\")"
   ]
  },
  {
   "cell_type": "code",
   "execution_count": null,
   "id": "4ae9c19e",
   "metadata": {
    "scrolled": true
   },
   "outputs": [],
   "source": [
    "sns.distplot(dataframe[\"lead_time\"].dropna())"
   ]
  },
  {
   "cell_type": "code",
   "execution_count": null,
   "id": "abe756ac",
   "metadata": {
    "scrolled": true
   },
   "outputs": [],
   "source": [
    "sns.distplot(dataframe[\"adr\"])"
   ]
  },
  {
   "cell_type": "code",
   "execution_count": null,
   "id": "fd7fe296",
   "metadata": {},
   "outputs": [],
   "source": [
    "handle_outlier(\"adr\")"
   ]
  },
  {
   "cell_type": "code",
   "execution_count": null,
   "id": "d154c638",
   "metadata": {
    "scrolled": true
   },
   "outputs": [],
   "source": [
    "dataframe.isnull().sum()"
   ]
  },
  {
   "cell_type": "code",
   "execution_count": null,
   "id": "cb6d7ace",
   "metadata": {},
   "outputs": [],
   "source": [
    "dataframe.dropna(inplace = True)"
   ]
  },
  {
   "cell_type": "markdown",
   "id": "868cf013",
   "metadata": {},
   "source": [
    "# Feature Importance"
   ]
  },
  {
   "cell_type": "code",
   "execution_count": null,
   "id": "31539e2d",
   "metadata": {},
   "outputs": [],
   "source": [
    "##separate dependent and independent variables\n",
    "\n",
    "y = dataframe[\"is_canceled\"] #dependent variable\n",
    "\n",
    "X = dataframe.drop(\"is_canceled\", axis = 1) #independent\n",
    "\n"
   ]
  },
  {
   "cell_type": "code",
   "execution_count": null,
   "id": "ea7dffef",
   "metadata": {
    "scrolled": true
   },
   "outputs": [],
   "source": [
    "X.columns"
   ]
  },
  {
   "cell_type": "code",
   "execution_count": null,
   "id": "0ce1c70e",
   "metadata": {},
   "outputs": [],
   "source": [
    "from sklearn.linear_model import Lasso\n",
    "from sklearn.feature_selection import SelectFromModel"
   ]
  },
  {
   "cell_type": "code",
   "execution_count": null,
   "id": "9a048779",
   "metadata": {},
   "outputs": [],
   "source": [
    "feature_sel_model = SelectFromModel(Lasso(alpha = 0.005, random_state = 0))"
   ]
  },
  {
   "cell_type": "code",
   "execution_count": null,
   "id": "de1c6d1e",
   "metadata": {
    "scrolled": true
   },
   "outputs": [],
   "source": [
    "feature_sel_model.fit(X, y)"
   ]
  },
  {
   "cell_type": "code",
   "execution_count": null,
   "id": "282319a3",
   "metadata": {
    "scrolled": true
   },
   "outputs": [],
   "source": [
    "feature_sel_model.get_support()"
   ]
  },
  {
   "cell_type": "code",
   "execution_count": null,
   "id": "11a180ff",
   "metadata": {
    "scrolled": true
   },
   "outputs": [],
   "source": [
    "cols = X.columns\n",
    "print(cols)"
   ]
  },
  {
   "cell_type": "code",
   "execution_count": null,
   "id": "22d43342",
   "metadata": {},
   "outputs": [],
   "source": [
    "selected_feature = cols[(feature_sel_model.get_support())]"
   ]
  },
  {
   "cell_type": "code",
   "execution_count": null,
   "id": "b8a185d5",
   "metadata": {
    "scrolled": true
   },
   "outputs": [],
   "source": [
    "print(selected_feature)"
   ]
  },
  {
   "cell_type": "code",
   "execution_count": null,
   "id": "4c59b829",
   "metadata": {},
   "outputs": [],
   "source": [
    "print(f\"Total features {X.shape[1]}\")"
   ]
  },
  {
   "cell_type": "code",
   "execution_count": null,
   "id": "55636288",
   "metadata": {
    "scrolled": true
   },
   "outputs": [],
   "source": [
    "print(f\"Selected features {len(selected_feature)}\")"
   ]
  },
  {
   "cell_type": "code",
   "execution_count": null,
   "id": "892fbd59",
   "metadata": {
    "scrolled": true
   },
   "outputs": [],
   "source": [
    "X.columns"
   ]
  },
  {
   "cell_type": "code",
   "execution_count": null,
   "id": "6df9851a",
   "metadata": {},
   "outputs": [],
   "source": [
    "X = X[selected_feature]"
   ]
  },
  {
   "cell_type": "code",
   "execution_count": null,
   "id": "8664a59c",
   "metadata": {
    "scrolled": true
   },
   "outputs": [],
   "source": [
    "X.columns"
   ]
  },
  {
   "cell_type": "code",
   "execution_count": null,
   "id": "d61310cb",
   "metadata": {
    "scrolled": true
   },
   "outputs": [],
   "source": [
    "X.head()"
   ]
  },
  {
   "cell_type": "code",
   "execution_count": null,
   "id": "f887d464",
   "metadata": {
    "scrolled": true
   },
   "outputs": [],
   "source": [
    "y.head()"
   ]
  },
  {
   "cell_type": "markdown",
   "id": "f4e7321d",
   "metadata": {},
   "source": [
    "# Splitting the data and model building"
   ]
  },
  {
   "cell_type": "code",
   "execution_count": null,
   "id": "7ba52171",
   "metadata": {},
   "outputs": [],
   "source": [
    "# X -> independent variables\n",
    "\n",
    "# y -> dependent variable\n",
    "\n",
    "\n",
    "from sklearn.model_selection import train_test_split\n",
    "\n",
    "x_train, x_test, y_train, y_test = train_test_split(X, y, train_size = 0.75, random_state = 45)"
   ]
  },
  {
   "cell_type": "markdown",
   "id": "a90da1b1",
   "metadata": {},
   "source": [
    "# implement logistic regression"
   ]
  },
  {
   "cell_type": "code",
   "execution_count": null,
   "id": "f755c7fb",
   "metadata": {},
   "outputs": [],
   "source": [
    "from sklearn.linear_model import LogisticRegression"
   ]
  },
  {
   "cell_type": "code",
   "execution_count": null,
   "id": "27c96d03",
   "metadata": {},
   "outputs": [],
   "source": [
    "logistic_model = LogisticRegression()\n",
    "logistic_model.fit(x_train, y_train) #training of the model"
   ]
  },
  {
   "cell_type": "code",
   "execution_count": null,
   "id": "fadef4a7",
   "metadata": {
    "scrolled": true
   },
   "outputs": [],
   "source": [
    "y_pred = logistic_model.predict(x_test) #prediction by model"
   ]
  },
  {
   "cell_type": "code",
   "execution_count": null,
   "id": "c0dace19",
   "metadata": {},
   "outputs": [],
   "source": []
  },
  {
   "cell_type": "code",
   "execution_count": null,
   "id": "4c8799b5",
   "metadata": {},
   "outputs": [],
   "source": [
    "from sklearn.metrics import confusion_matrix"
   ]
  },
  {
   "cell_type": "code",
   "execution_count": null,
   "id": "41daf8a9",
   "metadata": {
    "scrolled": true
   },
   "outputs": [],
   "source": [
    "confusion_matrix(y_test, y_pred)"
   ]
  },
  {
   "cell_type": "code",
   "execution_count": null,
   "id": "d639666e",
   "metadata": {},
   "outputs": [],
   "source": [
    "from sklearn.metrics import accuracy_score"
   ]
  },
  {
   "cell_type": "code",
   "execution_count": null,
   "id": "c33e0fbe",
   "metadata": {
    "scrolled": true
   },
   "outputs": [],
   "source": [
    "accuracy_score(y_test, y_pred)"
   ]
  },
  {
   "cell_type": "markdown",
   "id": "e160c579",
   "metadata": {},
   "source": [
    "# we are implementing different classification algorithms"
   ]
  },
  {
   "cell_type": "markdown",
   "id": "71497378",
   "metadata": {},
   "source": [
    "### logistic regression\n",
    "### Naive Bayes\n",
    "### Random Forest\n",
    "### Decision Tree\n",
    "### KNN"
   ]
  },
  {
   "cell_type": "code",
   "execution_count": null,
   "id": "af122009",
   "metadata": {},
   "outputs": [],
   "source": [
    "from sklearn.naive_bayes import GaussianNB\n",
    "from sklearn.neighbors import KNeighborsClassifier\n",
    "from sklearn.ensemble import RandomForestClassifier\n",
    "from sklearn.tree import DecisionTreeClassifier"
   ]
  },
  {
   "cell_type": "code",
   "execution_count": null,
   "id": "5872f2b0",
   "metadata": {},
   "outputs": [],
   "source": [
    "models = []\n",
    "\n",
    "models.append((\"Naive Bayes\", GaussianNB()))\n",
    "models.append((\"Random Forest\", RandomForestClassifier()))\n",
    "models.append((\"Decision Tree\", DecisionTreeClassifier()))\n",
    "models.append((\"KNN\", KNeighborsClassifier(n_neighbors = 5)))"
   ]
  },
  {
   "cell_type": "code",
   "execution_count": null,
   "id": "72c322f6",
   "metadata": {},
   "outputs": [],
   "source": [
    "for name, model in models:\n",
    "    print(name)\n",
    "    model.fit(x_train, y_train)\n",
    "    \n",
    "    #make a predictions\n",
    "    predictions = model.predict(x_test)\n",
    "    \n",
    "    #evaluate a model\n",
    "    from sklearn.metrics import confusion_matrix\n",
    "    print(confusion_matrix(predictions, y_test))\n",
    "    \n",
    "    from sklearn.metrics import accuracy_score\n",
    "    print(accuracy_score(predictions, y_test))\n",
    "    \n",
    "    print(\"\\n\")\n",
    "    \n",
    "    \n",
    "    "
   ]
  }
 ],
 "metadata": {
  "kernelspec": {
   "display_name": "Python 3 (ipykernel)",
   "language": "python",
   "name": "python3"
  },
  "language_info": {
   "codemirror_mode": {
    "name": "ipython",
    "version": 3
   },
   "file_extension": ".py",
   "mimetype": "text/x-python",
   "name": "python",
   "nbconvert_exporter": "python",
   "pygments_lexer": "ipython3",
   "version": "3.12.2"
  }
 },
 "nbformat": 4,
 "nbformat_minor": 5
}
